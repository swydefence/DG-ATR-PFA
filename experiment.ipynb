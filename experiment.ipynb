{
 "cells": [
  {
   "cell_type": "code",
   "execution_count": null,
   "metadata": {},
   "outputs": [],
   "source": [
    "!python main_s2m.py data/S2M -d S2M -s qpm decibel T -t R -a resnet50  --log logs/S2M/seed0  --phase train -j 1 -b 12 --epochs 30 --mix-layers layer1 layer2 layer3 --seed 0\n",
    "!python main_s2m.py data/S2M -d S2M -s qpm decibel T -t R -a resnet50  --log logs/S2M/seed1  --phase train -j 1 -b 12 --epochs 30 --mix-layers layer1 layer2 layer3 --seed 1\n",
    "!python main_s2m.py data/S2M -d S2M -s qpm decibel T -t R -a resnet50  --log logs/S2M/seed6  --phase train -j 1 -b 12 --epochs 30 --mix-layers layer1 layer2 layer3 --seed 6\n",
    "!python main_s2m.py data/S2M -d S2M -s qpm decibel T -t R -a resnet50  --log logs/S2M/seed666  --phase train -j 1 -b 12 --epochs 30 --mix-layers layer1 layer2 layer3 --seed 666\n",
    "!python main_s2m.py data/S2M -d S2M -s qpm decibel T -t R -a resnet50  --log logs/S2M/seed6666  --phase train -j 1 -b 12 --epochs 30 --mix-layers layer1 layer2 layer3 --seed 6666\n",
    "!python main_s2m.py data/S2M -d S2M -s qpm decibel T -t R -a resnet50  --log logs/S2M/seed10  --phase train -j 1 -b 12 --epochs 30 --mix-layers layer1 layer2 layer3 --seed 10\n",
    "!python main_s2m.py data/S2M -d S2M -s qpm decibel T -t R -a resnet50  --log logs/S2M/seed100  --phase train -j 1 -b 12 --epochs 30 --mix-layers layer1 layer2 layer3 --seed 100\n",
    "!python main_s2m.py data/S2M -d S2M -s qpm decibel T -t R -a resnet50  --log logs/S2M/seed1000  --phase train -j 1 -b 12 --epochs 30 --mix-layers layer1 layer2 layer3 --seed 1000\n",
    "!python main_s2m.py data/S2M -d S2M -s qpm decibel T -t R -a resnet50  --log logs/S2M/seed2024  --phase train -j 1 -b 12 --epochs 30 --mix-layers layer1 layer2 layer3 --seed 2024\n",
    "!python main_s2m.py data/S2M -d S2M -s qpm decibel T -t R -a resnet50  --log logs/S2M/seed831  --phase train -j 1 -b 12 --epochs 30 --mix-layers layer1 layer2 layer3 --seed 831"
   ]
  },
  {
   "cell_type": "code",
   "execution_count": null,
   "metadata": {},
   "outputs": [],
   "source": [
    "!python main_sample.py data/sample -d Sample -s S T T3 -t R -a resnet50  --log logs/sample/seed0  --phase train -j 1 -b 12 --epochs 30  --mix-layers layer1 layer2 layer3 --seed 0\n",
    "!python main_sample.py data/sample -d Sample -s S T T3 -t R -a resnet50  --log logs/sample/seed1  --phase train -j 1 -b 12 --epochs 30  --mix-layers layer1 layer2 layer3 --seed 1\n",
    "!python main_sample.py data/sample -d Sample -s S T T3 -t R -a resnet50  --log logs/sample/seed6  --phase train -j 1 -b 12 --epochs 30  --mix-layers layer1 layer2 layer3 --seed 6\n",
    "!python main_sample.py data/sample -d Sample -s S T T3 -t R -a resnet50  --log logs/sample/seed666  --phase train -j 1 -b 12 --epochs 30  --mix-layers layer1 layer2 layer3 --seed 666\n",
    "!python main_sample.py data/sample -d Sample -s S T T3 -t R -a resnet50  --log logs/sample/seed6666  --phase train -j 1 -b 12 --epochs 30  --mix-layers layer1 layer2 layer3 --seed 6666\n",
    "!python main_sample.py data/sample -d Sample -s S T T3 -t R -a resnet50  --log logs/sample/seed10  --phase train -j 1 -b 12 --epochs 30  --mix-layers layer1 layer2 layer3 --seed 10\n",
    "!python main_sample.py data/sample -d Sample -s S T T3 -t R -a resnet50  --log logs/sample/seed100  --phase train -j 1 -b 12 --epochs 30  --mix-layers layer1 layer2 layer3 --seed 100\n",
    "!python main_sample.py data/sample -d Sample -s S T T3 -t R -a resnet50  --log logs/sample/seed1000  --phase train -j 1 -b 12 --epochs 30  --mix-layers layer1 layer2 layer3 --seed 1000\n",
    "!python main_sample.py data/sample -d Sample -s S T T3 -t R -a resnet50  --log logs/sample/seed2024  --phase train -j 1 -b 12 --epochs 30  --mix-layers layer1 layer2 layer3 --seed 2024\n",
    "!python main_sample.py data/sample -d Sample -s S T T3 -t R -a resnet50  --log logs/sample/seed831  --phase train -j 1 -b 12 --epochs 30  --mix-layers layer1 layer2 layer3 --seed 831"
   ]
  }
 ],
 "metadata": {
  "language_info": {
   "name": "python"
  }
 },
 "nbformat": 4,
 "nbformat_minor": 2
}
